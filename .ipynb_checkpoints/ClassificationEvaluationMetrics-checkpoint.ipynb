{
 "cells": [
  {
   "cell_type": "code",
   "execution_count": null,
   "metadata": {},
   "outputs": [],
   "source": []
  },
  {
   "cell_type": "markdown",
   "metadata": {},
   "source": [
    "# # Imbalanced dataset -- cannot depend on accuracy alone as class =1 might be too small"
   ]
  },
  {
   "cell_type": "code",
   "execution_count": 4,
   "metadata": {},
   "outputs": [],
   "source": [
    "from sklearn.datasets import load_digits\n",
    "digits = load_digits()\n",
    "\n",
    "y = digits.target == 9 \n",
    "\n",
    "from sklearn.model_selection import train_test_split\n",
    "\n",
    "X_train,X_test,y_train, y_test= train_test_split(digits.data,y,random_state=0)"
   ]
  },
  {
   "cell_type": "code",
   "execution_count": 5,
   "metadata": {},
   "outputs": [
    {
     "name": "stdout",
     "output_type": "stream",
     "text": [
      "unique predicted labels: [False]\n",
      "Test score: 0.895556\n"
     ]
    }
   ],
   "source": [
    "from sklearn.dummy import DummyClassifier\n",
    "import numpy as np\n",
    "dummy_majority = DummyClassifier(strategy='most_frequent').fit(X_train, y_train)\n",
    "\n",
    "my_pred = dummy_majority.predict(X_test)\n",
    "\n",
    "print(\"unique predicted labels: {}\".format(np.unique(my_pred)))\n",
    "print(\"Test score: {:3f}\".format(dummy_majority.score(X_test,y_test)))"
   ]
  },
  {
   "cell_type": "code",
   "execution_count": 6,
   "metadata": {},
   "outputs": [
    {
     "name": "stdout",
     "output_type": "stream",
     "text": [
      "Test score: 0.917778\n"
     ]
    }
   ],
   "source": [
    "from sklearn.tree import DecisionTreeClassifier\n",
    "tree = DecisionTreeClassifier(max_depth=2).fit(X_train,y_train)\n",
    "\n",
    "#pred_tree = tree.predict(X_test)\n",
    "print(\"Test score: {:3f}\".format(tree.score(X_test,y_test)))"
   ]
  },
  {
   "cell_type": "code",
   "execution_count": 7,
   "metadata": {},
   "outputs": [
    {
     "name": "stdout",
     "output_type": "stream",
     "text": [
      " dummy Test score: 0.786667\n"
     ]
    },
    {
     "name": "stderr",
     "output_type": "stream",
     "text": [
      "C:\\Users\\obaid\\Anaconda3\\lib\\site-packages\\sklearn\\linear_model\\logistic.py:432: FutureWarning: Default solver will be changed to 'lbfgs' in 0.22. Specify a solver to silence this warning.\n",
      "  FutureWarning)\n"
     ]
    },
    {
     "name": "stdout",
     "output_type": "stream",
     "text": [
      " LogReg Test score: 0.977778\n"
     ]
    }
   ],
   "source": [
    "from sklearn.linear_model import LogisticRegression\n",
    "\n",
    "dummy = DummyClassifier().fit(X_train, y_train)\n",
    "print(\" dummy Test score: {:3f}\".format(dummy.score(X_test,y_test)))\n",
    "\n",
    "logreg = LogisticRegression(C=0.1).fit(X_train, y_train)\n",
    "print(\" LogReg Test score: {:3f}\".format(logreg.score(X_test,y_test)))"
   ]
  },
  {
   "cell_type": "code",
   "execution_count": 8,
   "metadata": {},
   "outputs": [
    {
     "name": "stdout",
     "output_type": "stream",
     "text": [
      " with dummy most frequent:\n",
      "[[403   0]\n",
      " [ 47   0]]\n",
      " tree with max depth of 2:\n",
      "[[390  13]\n",
      " [ 24  23]]\n",
      " simply dummy classifier:\n",
      "[[370  33]\n",
      " [ 40   7]]\n",
      " logostic regression:\n",
      "[[401   2]\n",
      " [  8  39]]\n"
     ]
    }
   ],
   "source": [
    "from sklearn.metrics import confusion_matrix\n",
    "\n",
    "print(\" with dummy most frequent:\")\n",
    "confusion = confusion_matrix(y_test, dummy_majority.predict(X_test))\n",
    "print(confusion)\n",
    "\n",
    "\n",
    "print(\" tree with max depth of 2:\")\n",
    "confusion = confusion_matrix(y_test, tree.predict(X_test))\n",
    "print(confusion)\n",
    "\n",
    "print(\" simply dummy classifier:\")\n",
    "confusion = confusion_matrix(y_test, dummy.predict(X_test))\n",
    "print(confusion)\n",
    "\n",
    "\n",
    "print(\" logostic regression:\")\n",
    "confusion = confusion_matrix(y_test, logreg.predict(X_test))\n",
    "print(confusion)"
   ]
  },
  {
   "cell_type": "code",
   "execution_count": 9,
   "metadata": {},
   "outputs": [
    {
     "name": "stdout",
     "output_type": "stream",
     "text": [
      " with dummy most frequent f1 score :\n",
      "0.0\n",
      " tree with max depth of 2 f1 score :\n",
      "0.5542168674698795\n",
      " simply dummy classifier f1 score:\n",
      "0.048780487804878044\n",
      " logostic regression f1 score :\n",
      "0.8863636363636364\n"
     ]
    },
    {
     "name": "stderr",
     "output_type": "stream",
     "text": [
      "C:\\Users\\obaid\\Anaconda3\\lib\\site-packages\\sklearn\\metrics\\classification.py:1437: UndefinedMetricWarning: F-score is ill-defined and being set to 0.0 due to no predicted samples.\n",
      "  'precision', 'predicted', average, warn_for)\n"
     ]
    }
   ],
   "source": [
    "from sklearn.metrics import f1_score\n",
    "\n",
    "print(\" with dummy most frequent f1 score :\")\n",
    "print(f1_score(y_test,dummy_majority.predict(X_test)))\n",
    "\n",
    "print(\" tree with max depth of 2 f1 score :\")\n",
    "print(f1_score(y_test,tree.predict(X_test)))\n",
    "\n",
    "print(\" simply dummy classifier f1 score:\")\n",
    "print(f1_score(y_test,dummy.predict(X_test)))\n",
    "\n",
    "\n",
    "print(\" logostic regression f1 score :\")\n",
    "print(f1_score(y_test,logreg.predict(X_test)))\n"
   ]
  },
  {
   "cell_type": "code",
   "execution_count": 10,
   "metadata": {},
   "outputs": [
    {
     "name": "stdout",
     "output_type": "stream",
     "text": [
      " with dummy most frequent report :\n",
      "              precision    recall  f1-score   support\n",
      "\n",
      "       not 9       0.90      1.00      0.94       403\n",
      "           9       0.00      0.00      0.00        47\n",
      "\n",
      "    accuracy                           0.90       450\n",
      "   macro avg       0.45      0.50      0.47       450\n",
      "weighted avg       0.80      0.90      0.85       450\n",
      "\n",
      " tree with max depth of 2 report :\n",
      "              precision    recall  f1-score   support\n",
      "\n",
      "       not 9       0.94      0.97      0.95       403\n",
      "           9       0.64      0.49      0.55        47\n",
      "\n",
      "    accuracy                           0.92       450\n",
      "   macro avg       0.79      0.73      0.75       450\n",
      "weighted avg       0.91      0.92      0.91       450\n",
      "\n",
      " simply dummy classifier report:\n",
      "              precision    recall  f1-score   support\n",
      "\n",
      "       not 9       0.91      0.89      0.90       403\n",
      "           9       0.19      0.21      0.20        47\n",
      "\n",
      "    accuracy                           0.82       450\n",
      "   macro avg       0.55      0.55      0.55       450\n",
      "weighted avg       0.83      0.82      0.83       450\n",
      "\n",
      " logostic regression report :\n",
      "              precision    recall  f1-score   support\n",
      "\n",
      "       not 9       0.98      1.00      0.99       403\n",
      "           9       0.95      0.83      0.89        47\n",
      "\n",
      "    accuracy                           0.98       450\n",
      "   macro avg       0.97      0.91      0.94       450\n",
      "weighted avg       0.98      0.98      0.98       450\n",
      "\n"
     ]
    },
    {
     "name": "stderr",
     "output_type": "stream",
     "text": [
      "C:\\Users\\obaid\\Anaconda3\\lib\\site-packages\\sklearn\\metrics\\classification.py:1437: UndefinedMetricWarning: Precision and F-score are ill-defined and being set to 0.0 in labels with no predicted samples.\n",
      "  'precision', 'predicted', average, warn_for)\n"
     ]
    }
   ],
   "source": [
    "from sklearn.metrics import classification_report\n",
    "\n",
    "print(\" with dummy most frequent report :\")\n",
    "print(classification_report(y_test,dummy_majority.predict(X_test), target_names=[\"not 9\",\"9\"]))\n",
    "\n",
    "print(\" tree with max depth of 2 report :\")\n",
    "print(classification_report(y_test,tree.predict(X_test), target_names=[\"not 9\",\"9\"]))\n",
    "\n",
    "print(\" simply dummy classifier report:\")\n",
    "print(classification_report(y_test,dummy.predict(X_test), target_names=[\"not 9\",\"9\"]))\n",
    "\n",
    "\n",
    "print(\" logostic regression report :\")\n",
    "print(classification_report(y_test,logreg.predict(X_test), target_names=[\"not 9\",\"9\"]))"
   ]
  },
  {
   "cell_type": "markdown",
   "metadata": {},
   "source": [
    "# Lets do PRECISION  as evaluation metric"
   ]
  },
  {
   "cell_type": "code",
   "execution_count": null,
   "metadata": {},
   "outputs": [],
   "source": [
    "from sklearn.svm import SVC \n",
    "from sklearn.datasets import load_breast_cancer\n",
    "from sklearn.preprocessing import StandardScaler\n",
    "\n",
    "data = load_breast_cancer()\n",
    "\n",
    "X = data.data \n",
    "y = data.target\n",
    "\n",
    "\n",
    "x_train_org,x_test_org,y_train,y_test=train_test_split(X,y,random_state=0)  ## org stands for the very original\n",
    "scaler = StandardScaler()\n",
    "X_train = scaler.fit_transform(x_train_org)  ### you can fit and transform together \n",
    "X_test = scaler.transform(x_test_org)  \n",
    "\n",
    "svc= SVC(kernel='rbf', C =0.1, gamma=10)\n",
    "svc.fit(X_train, y_train)"
   ]
  },
  {
   "cell_type": "code",
   "execution_count": null,
   "metadata": {},
   "outputs": [],
   "source": [
    "%matplotlib notebook\n",
    "import matplotlib.pyplot as plt\n",
    "\n",
    "precision, recall, thresholds = precision_recall_curve(y_test, svc.decision_function(X_test))\n",
    "\n",
    "close_zero = np.argmin(np.abs(thresholds))\n",
    "\n",
    "plt.plot(precision[close_zero],recall[close_zero],'o',markersize=10,\n",
    "        label='threshold zero', fillstyle='none' , c='k',mew=2)\n",
    "\n",
    "plt.plot(precision,recall, label='precision recall label')\n",
    "plt.xlabel('Precision')\n",
    "plt.ylabel('recall')\n",
    "plt.legend(loc='best')"
   ]
  },
  {
   "cell_type": "code",
   "execution_count": null,
   "metadata": {},
   "outputs": [],
   "source": [
    "%matplotlib notebook\n",
    "import matplotlib.pyplot as plt\n",
    "\n",
    "from sklearn.metrics import roc_curve\n",
    "\n",
    "fpr,tpr,thresholds= roc_curve(y_test, svc.decision_function(X_test))\n",
    "plt.plot(fpr,tpr,label='roc_curve')\n",
    "plt.xlabel('FPR')\n",
    "plt.ylabel('TPR OR RECALL')\n",
    "\n",
    "## find threshold closets to zero\n",
    "\n",
    "\n",
    "close_zero = np.argmin(np.abs(thresholds))\n",
    "\n",
    "plt.plot(fpr[close_zero],tpr[close_zero],'o',markersize=10,\n",
    "        label='threshold zero', fillstyle='none' , c='k',mew=2)\n",
    "\n",
    "plt.plot(precision,recall, label='precision recall label')\n",
    "\n",
    "plt.legend(loc=4)"
   ]
  }
 ],
 "metadata": {
  "kernelspec": {
   "display_name": "Python 3",
   "language": "python",
   "name": "python3"
  },
  "language_info": {
   "codemirror_mode": {
    "name": "ipython",
    "version": 3
   },
   "file_extension": ".py",
   "mimetype": "text/x-python",
   "name": "python",
   "nbconvert_exporter": "python",
   "pygments_lexer": "ipython3",
   "version": "3.6.8"
  }
 },
 "nbformat": 4,
 "nbformat_minor": 2
}
