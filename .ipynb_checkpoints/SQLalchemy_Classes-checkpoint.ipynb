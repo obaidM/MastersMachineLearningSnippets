{
 "cells": [
  {
   "cell_type": "markdown",
   "metadata": {},
   "source": [
    "# BRING DATA IN and make df so get ready for some killer analysis"
   ]
  },
  {
   "cell_type": "code",
   "execution_count": 4,
   "metadata": {},
   "outputs": [],
   "source": [
    "import csv\n",
    "import numpy as np\n",
    "import pandas as pd\n"
   ]
  },
  {
   "cell_type": "code",
   "execution_count": 2,
   "metadata": {},
   "outputs": [],
   "source": [
    "df = pd.read_csv('BWGHT.csv')"
   ]
  },
  {
   "cell_type": "code",
   "execution_count": 5,
   "metadata": {},
   "outputs": [
    {
     "data": {
      "text/plain": [
       "'  \\nimport sqlite3\\n\\ncon = sqlite3.connect(\"bwght.db\")\\ncon.isolation_level = None\\ncur = con.cursor()\\ncur.execute(\"SELECT * FROM MYTABLE\")   ### only works if there is a table exists with name MYTABLE\\n\\n'"
      ]
     },
     "execution_count": 5,
     "metadata": {},
     "output_type": "execute_result"
    }
   ],
   "source": [
    "'''  \n",
    "import sqlite3\n",
    "\n",
    "con = sqlite3.connect(\"bwght.db\")\n",
    "con.isolation_level = None\n",
    "cur = con.cursor()\n",
    "cur.execute(\"SELECT * FROM MYTABLE\")   ### only works if there is a table exists with name MYTABLE\n",
    "\n",
    "'''"
   ]
  },
  {
   "cell_type": "code",
   "execution_count": 6,
   "metadata": {},
   "outputs": [
    {
     "ename": "SyntaxError",
     "evalue": "invalid syntax (<ipython-input-6-7e93691cd151>, line 9)",
     "output_type": "error",
     "traceback": [
      "\u001b[1;36m  File \u001b[1;32m\"<ipython-input-6-7e93691cd151>\"\u001b[1;36m, line \u001b[1;32m9\u001b[0m\n\u001b[1;33m    SELECT * FROM TABLE1 INNERJOIN TABLE2\u001b[0m\n\u001b[1;37m                       ^\u001b[0m\n\u001b[1;31mSyntaxError\u001b[0m\u001b[1;31m:\u001b[0m invalid syntax\n"
     ]
    }
   ],
   "source": [
    "\n",
    "import sqlalchemy\n",
    "\n",
    "engine = sqlalchemy.create_engine('')\n",
    "df = pd.read_sql_table(\"MyTable\",engine,columns=[])\n",
    "\n",
    "query= '''\n",
    "\n",
    "SELECT * FROM TABLE1 INNERJOIN TABLE2\n",
    "         ON TABLE1.ID = TABLE2.ID\n",
    "WHERE PRICE >=20 AND LOCATION = 'NAM'\n",
    "'''\n",
    "\n",
    "df= pd.read_sql_query(query,engine)\n",
    "\n"
   ]
  },
  {
   "cell_type": "code",
   "execution_count": 15,
   "metadata": {},
   "outputs": [
    {
     "data": {
      "text/html": [
       "<div>\n",
       "<style scoped>\n",
       "    .dataframe tbody tr th:only-of-type {\n",
       "        vertical-align: middle;\n",
       "    }\n",
       "\n",
       "    .dataframe tbody tr th {\n",
       "        vertical-align: top;\n",
       "    }\n",
       "\n",
       "    .dataframe thead th {\n",
       "        text-align: right;\n",
       "    }\n",
       "</style>\n",
       "<table border=\"1\" class=\"dataframe\">\n",
       "  <thead>\n",
       "    <tr style=\"text-align: right;\">\n",
       "      <th></th>\n",
       "      <th>faminc</th>\n",
       "      <th>cigtax</th>\n",
       "      <th>cigprice</th>\n",
       "      <th>bwght</th>\n",
       "      <th>fatheduc</th>\n",
       "      <th>motheduc</th>\n",
       "      <th>parity</th>\n",
       "      <th>male</th>\n",
       "      <th>white</th>\n",
       "      <th>cigs</th>\n",
       "      <th>lbwght</th>\n",
       "      <th>bwghtlbs</th>\n",
       "      <th>packs</th>\n",
       "      <th>lfaminc</th>\n",
       "    </tr>\n",
       "  </thead>\n",
       "  <tbody>\n",
       "    <tr>\n",
       "      <th>count</th>\n",
       "      <td>1388.000000</td>\n",
       "      <td>1388.000000</td>\n",
       "      <td>1388.000000</td>\n",
       "      <td>1388.000000</td>\n",
       "      <td>1192.000000</td>\n",
       "      <td>1387.000000</td>\n",
       "      <td>1388.000000</td>\n",
       "      <td>1388.000000</td>\n",
       "      <td>1388.000000</td>\n",
       "      <td>1388.000000</td>\n",
       "      <td>1388.000000</td>\n",
       "      <td>1388.000000</td>\n",
       "      <td>1388.000000</td>\n",
       "      <td>1388.000000</td>\n",
       "    </tr>\n",
       "    <tr>\n",
       "      <th>mean</th>\n",
       "      <td>29.026657</td>\n",
       "      <td>19.552954</td>\n",
       "      <td>130.559006</td>\n",
       "      <td>118.699568</td>\n",
       "      <td>13.186242</td>\n",
       "      <td>12.935833</td>\n",
       "      <td>1.632565</td>\n",
       "      <td>0.520893</td>\n",
       "      <td>0.784582</td>\n",
       "      <td>2.087176</td>\n",
       "      <td>4.760031</td>\n",
       "      <td>7.418723</td>\n",
       "      <td>0.104359</td>\n",
       "      <td>3.071271</td>\n",
       "    </tr>\n",
       "    <tr>\n",
       "      <th>std</th>\n",
       "      <td>18.739285</td>\n",
       "      <td>7.795598</td>\n",
       "      <td>10.244484</td>\n",
       "      <td>20.353964</td>\n",
       "      <td>2.745985</td>\n",
       "      <td>2.376728</td>\n",
       "      <td>0.894027</td>\n",
       "      <td>0.499743</td>\n",
       "      <td>0.411260</td>\n",
       "      <td>5.972688</td>\n",
       "      <td>0.190662</td>\n",
       "      <td>1.272123</td>\n",
       "      <td>0.298634</td>\n",
       "      <td>0.918064</td>\n",
       "    </tr>\n",
       "    <tr>\n",
       "      <th>min</th>\n",
       "      <td>0.500000</td>\n",
       "      <td>2.000000</td>\n",
       "      <td>103.800000</td>\n",
       "      <td>23.000000</td>\n",
       "      <td>1.000000</td>\n",
       "      <td>2.000000</td>\n",
       "      <td>1.000000</td>\n",
       "      <td>0.000000</td>\n",
       "      <td>0.000000</td>\n",
       "      <td>0.000000</td>\n",
       "      <td>3.135494</td>\n",
       "      <td>1.437500</td>\n",
       "      <td>0.000000</td>\n",
       "      <td>-0.693147</td>\n",
       "    </tr>\n",
       "    <tr>\n",
       "      <th>25%</th>\n",
       "      <td>14.500000</td>\n",
       "      <td>15.000000</td>\n",
       "      <td>122.800000</td>\n",
       "      <td>107.000000</td>\n",
       "      <td>12.000000</td>\n",
       "      <td>12.000000</td>\n",
       "      <td>1.000000</td>\n",
       "      <td>0.000000</td>\n",
       "      <td>1.000000</td>\n",
       "      <td>0.000000</td>\n",
       "      <td>4.672829</td>\n",
       "      <td>6.687500</td>\n",
       "      <td>0.000000</td>\n",
       "      <td>2.674149</td>\n",
       "    </tr>\n",
       "    <tr>\n",
       "      <th>50%</th>\n",
       "      <td>27.500000</td>\n",
       "      <td>20.000000</td>\n",
       "      <td>130.800000</td>\n",
       "      <td>120.000000</td>\n",
       "      <td>12.000000</td>\n",
       "      <td>12.000000</td>\n",
       "      <td>1.000000</td>\n",
       "      <td>1.000000</td>\n",
       "      <td>1.000000</td>\n",
       "      <td>0.000000</td>\n",
       "      <td>4.787492</td>\n",
       "      <td>7.500000</td>\n",
       "      <td>0.000000</td>\n",
       "      <td>3.314186</td>\n",
       "    </tr>\n",
       "    <tr>\n",
       "      <th>75%</th>\n",
       "      <td>37.500000</td>\n",
       "      <td>26.000000</td>\n",
       "      <td>137.000000</td>\n",
       "      <td>132.000000</td>\n",
       "      <td>16.000000</td>\n",
       "      <td>14.000000</td>\n",
       "      <td>2.000000</td>\n",
       "      <td>1.000000</td>\n",
       "      <td>1.000000</td>\n",
       "      <td>0.000000</td>\n",
       "      <td>4.882802</td>\n",
       "      <td>8.250000</td>\n",
       "      <td>0.000000</td>\n",
       "      <td>3.624341</td>\n",
       "    </tr>\n",
       "    <tr>\n",
       "      <th>max</th>\n",
       "      <td>65.000000</td>\n",
       "      <td>38.000000</td>\n",
       "      <td>152.500000</td>\n",
       "      <td>271.000000</td>\n",
       "      <td>18.000000</td>\n",
       "      <td>18.000000</td>\n",
       "      <td>6.000000</td>\n",
       "      <td>1.000000</td>\n",
       "      <td>1.000000</td>\n",
       "      <td>50.000000</td>\n",
       "      <td>5.602119</td>\n",
       "      <td>16.937500</td>\n",
       "      <td>2.500000</td>\n",
       "      <td>4.174387</td>\n",
       "    </tr>\n",
       "  </tbody>\n",
       "</table>\n",
       "</div>"
      ],
      "text/plain": [
       "            faminc       cigtax     cigprice        bwght     fatheduc  \\\n",
       "count  1388.000000  1388.000000  1388.000000  1388.000000  1192.000000   \n",
       "mean     29.026657    19.552954   130.559006   118.699568    13.186242   \n",
       "std      18.739285     7.795598    10.244484    20.353964     2.745985   \n",
       "min       0.500000     2.000000   103.800000    23.000000     1.000000   \n",
       "25%      14.500000    15.000000   122.800000   107.000000    12.000000   \n",
       "50%      27.500000    20.000000   130.800000   120.000000    12.000000   \n",
       "75%      37.500000    26.000000   137.000000   132.000000    16.000000   \n",
       "max      65.000000    38.000000   152.500000   271.000000    18.000000   \n",
       "\n",
       "          motheduc       parity         male        white         cigs  \\\n",
       "count  1387.000000  1388.000000  1388.000000  1388.000000  1388.000000   \n",
       "mean     12.935833     1.632565     0.520893     0.784582     2.087176   \n",
       "std       2.376728     0.894027     0.499743     0.411260     5.972688   \n",
       "min       2.000000     1.000000     0.000000     0.000000     0.000000   \n",
       "25%      12.000000     1.000000     0.000000     1.000000     0.000000   \n",
       "50%      12.000000     1.000000     1.000000     1.000000     0.000000   \n",
       "75%      14.000000     2.000000     1.000000     1.000000     0.000000   \n",
       "max      18.000000     6.000000     1.000000     1.000000    50.000000   \n",
       "\n",
       "            lbwght     bwghtlbs        packs      lfaminc  \n",
       "count  1388.000000  1388.000000  1388.000000  1388.000000  \n",
       "mean      4.760031     7.418723     0.104359     3.071271  \n",
       "std       0.190662     1.272123     0.298634     0.918064  \n",
       "min       3.135494     1.437500     0.000000    -0.693147  \n",
       "25%       4.672829     6.687500     0.000000     2.674149  \n",
       "50%       4.787492     7.500000     0.000000     3.314186  \n",
       "75%       4.882802     8.250000     0.000000     3.624341  \n",
       "max       5.602119    16.937500     2.500000     4.174387  "
      ]
     },
     "execution_count": 15,
     "metadata": {},
     "output_type": "execute_result"
    }
   ],
   "source": [
    "df.describe()"
   ]
  },
  {
   "cell_type": "code",
   "execution_count": 16,
   "metadata": {},
   "outputs": [
    {
     "data": {
      "text/plain": [
       "(1388, 14)"
      ]
     },
     "execution_count": 16,
     "metadata": {},
     "output_type": "execute_result"
    }
   ],
   "source": [
    "df.shape"
   ]
  },
  {
   "cell_type": "code",
   "execution_count": 51,
   "metadata": {},
   "outputs": [
    {
     "data": {
      "text/plain": [
       "14"
      ]
     },
     "execution_count": 51,
     "metadata": {},
     "output_type": "execute_result"
    }
   ],
   "source": [
    "df.shape[1]"
   ]
  },
  {
   "cell_type": "code",
   "execution_count": 13,
   "metadata": {},
   "outputs": [
    {
     "data": {
      "text/plain": [
       "Index(['faminc', 'cigtax', 'cigprice', 'bwght', 'fatheduc', 'motheduc',\n",
       "       'parity', 'male', 'white', 'cigs', 'lbwght', 'bwghtlbs', 'packs',\n",
       "       'lfaminc'],\n",
       "      dtype='object')"
      ]
     },
     "execution_count": 13,
     "metadata": {},
     "output_type": "execute_result"
    }
   ],
   "source": [
    "df.columns"
   ]
  },
  {
   "cell_type": "code",
   "execution_count": 66,
   "metadata": {},
   "outputs": [
    {
     "data": {
      "text/plain": [
       "faminc      False\n",
       "cigtax      False\n",
       "cigprice    False\n",
       "bwght       False\n",
       "fatheduc     True\n",
       "motheduc     True\n",
       "parity      False\n",
       "male        False\n",
       "white       False\n",
       "cigs        False\n",
       "lbwght      False\n",
       "bwghtlbs    False\n",
       "packs       False\n",
       "lfaminc     False\n",
       "dtype: bool"
      ]
     },
     "execution_count": 66,
     "metadata": {},
     "output_type": "execute_result"
    }
   ],
   "source": [
    "ls = df.isna().any()\n",
    "ls"
   ]
  },
  {
   "cell_type": "code",
   "execution_count": 39,
   "metadata": {},
   "outputs": [
    {
     "name": "stdout",
     "output_type": "stream",
     "text": [
      "0    109\n",
      "1    133\n",
      "2    129\n",
      "Name: bwght, dtype: int64\n",
      "   faminc  cigprice\n",
      "0    13.5     122.3\n",
      "1     7.5     122.3\n",
      "2     0.5     122.3\n"
     ]
    }
   ],
   "source": [
    "y= df['bwght']\n",
    "x=df[['faminc','cigprice']]\n",
    "\n",
    "print(y.head(3))\n",
    "print(x.head(3))"
   ]
  },
  {
   "cell_type": "code",
   "execution_count": 36,
   "metadata": {},
   "outputs": [],
   "source": [
    "from scipy.stats import norm\n",
    "\n",
    "class lm0:\n",
    "    def __init__(self,x,y):\n",
    "        self.x = x\n",
    "        self.y = y\n",
    "        (self.n,self.r) = x.shape\n",
    "        xx = np.dot(x.T,x)\n",
    "        xy = np.dot(x.T,y)\n",
    "        self.xxi = np.linalg.inv(xx)\n",
    "        self.b = np.linalg.solve(xx,xy)\n",
    "        e = y - np.dot(x,self.b)\n",
    "        self.resid = e\n",
    "        self.vb = self.genvariance(e)\n",
    "        self.se = np.sqrt(np.diagonal(self.vb))\n",
    "        self.tstat = np.divide(self.b,self.se)\n",
    "        self.pval = 2*norm.cdf(-np.abs(self.tstat))\n",
    "        self.rsq = 1-e.var()/y.var()\n",
    "        self.adjrsq = 1-(1-self.rsq)*(self.n-1)/(self.n-self.r)\n",
    "        self.logl = -self.n/2*(np.log(2*np.pi*e.var())+1)\n",
    "        self.aic = 2*self.r-2*self.logl\n",
    "        self.bic = np.log(self.n)*self.r-2*self.logl\n",
    "        nulllike = -self.n/2*(np.log(2*np.pi*y.var())+1)\n",
    "        self.deviance = 2*(self.logl-nulllike)\n",
    "    def genvariance(self,e):\n",
    "        return e.var()*self.xxi\n",
    "    def predict(self,*args):\n",
    "        if len(args)>=2:\n",
    "            raise Exception('Predict takes 0 or 1 argument')\n",
    "        elif len(args)==0:\n",
    "            newx = self.x\n",
    "        else:\n",
    "            newx = args[0]\n",
    "        return np.dot(newx,self.b)\n",
    "    def tidy(self):\n",
    "        df = [self.b,self.se,self.tstat,self.pval]\n",
    "        df = [x.reshape(-1,1) for x in df]\n",
    "        df = np.hstack(df)\n",
    "        df = pd.DataFrame(df,columns=['est','std.err','t.stat','p.val'])\n",
    "        return df\n",
    "    def glance(self):\n",
    "        df = pd.DataFrame(columns=['r.squared','adj.rsq','r','logl',\\\n",
    "                                   'aic','bic','deviance','df'])\n",
    "        df.loc[0] = [self.rsq,self.adjrsq,self.r,self.logl,self.aic,\\\n",
    "                     self.bic,self.deviance,self.n-self.r]\n",
    "        return df\n",
    "    def mspe(self,xtest,ytest):\n",
    "        err = ytest - self.predict(xtest)\n",
    "        return np.array(err.var())\n",
    "\n",
    "class lm(lm0):\n",
    "    def __init__(self,x,y):\n",
    "        (self.n,self.r) = x.shape\n",
    "        ones = np.ones((self.n,1))\n",
    "        x = np.hstack((ones,x))\n",
    "        super(lm,self).__init__(x,y)\n",
    "    def predict(self,*args):\n",
    "        if len(args)==1:\n",
    "            newx = args[0]\n",
    "            m = newx.shape[0]\n",
    "            ones = np.ones((m,1))\n",
    "            newx = np.hstack((ones,newx))\n",
    "            return super(lm,self).predict(newx)\n",
    "        return super(lm,self).predict(*args)\n",
    "\n",
    "class white(lm):\n",
    "    def genvariance(self,e):\n",
    "        meat = np.diagflat(e**2)\n",
    "        meat = self.x.T.dot(meat).dot(self.x)\n",
    "        return self.xxi.dot(meat).dot(self.xxi)"
   ]
  },
  {
   "cell_type": "code",
   "execution_count": 40,
   "metadata": {},
   "outputs": [],
   "source": [
    "model1 = lm0(x,y)"
   ]
  },
  {
   "cell_type": "code",
   "execution_count": 41,
   "metadata": {},
   "outputs": [
    {
     "data": {
      "text/plain": [
       "array([[ 2.07060159e-06, -4.59744321e-07],\n",
       "       [-4.59744321e-07,  1.44087053e-07]])"
      ]
     },
     "execution_count": 41,
     "metadata": {},
     "output_type": "execute_result"
    }
   ],
   "source": [
    "model1.xxi"
   ]
  },
  {
   "cell_type": "code",
   "execution_count": 42,
   "metadata": {},
   "outputs": [
    {
     "data": {
      "text/plain": [
       "12500.68348461591"
      ]
     },
     "execution_count": 42,
     "metadata": {},
     "output_type": "execute_result"
    }
   ],
   "source": [
    "model1.aic"
   ]
  },
  {
   "cell_type": "code",
   "execution_count": 43,
   "metadata": {},
   "outputs": [
    {
     "data": {
      "text/plain": [
       "12511.154722898043"
      ]
     },
     "execution_count": 43,
     "metadata": {},
     "output_type": "execute_result"
    }
   ],
   "source": [
    "model1.bic"
   ]
  },
  {
   "cell_type": "code",
   "execution_count": 48,
   "metadata": {},
   "outputs": [
    {
     "name": "stdout",
     "output_type": "stream",
     "text": [
      "   r.squared   adj.rsq    r         logl           aic           bic  \\\n",
      "0  -0.149062 -0.149891  2.0 -6248.341742  12500.683485  12511.154723   \n",
      "\n",
      "     deviance      df  \n",
      "0 -192.856771  1386.0  \n"
     ]
    }
   ],
   "source": [
    "print(model1.glance())"
   ]
  },
  {
   "cell_type": "code",
   "execution_count": 49,
   "metadata": {},
   "outputs": [
    {
     "data": {
      "text/html": [
       "<div>\n",
       "<style scoped>\n",
       "    .dataframe tbody tr th:only-of-type {\n",
       "        vertical-align: middle;\n",
       "    }\n",
       "\n",
       "    .dataframe tbody tr th {\n",
       "        vertical-align: top;\n",
       "    }\n",
       "\n",
       "    .dataframe thead th {\n",
       "        text-align: right;\n",
       "    }\n",
       "</style>\n",
       "<table border=\"1\" class=\"dataframe\">\n",
       "  <thead>\n",
       "    <tr style=\"text-align: right;\">\n",
       "      <th></th>\n",
       "      <th>est</th>\n",
       "      <th>std.err</th>\n",
       "      <th>t.stat</th>\n",
       "      <th>p.val</th>\n",
       "    </tr>\n",
       "  </thead>\n",
       "  <tbody>\n",
       "    <tr>\n",
       "      <th>0</th>\n",
       "      <td>0.125786</td>\n",
       "      <td>0.031396</td>\n",
       "      <td>4.006478</td>\n",
       "      <td>0.000062</td>\n",
       "    </tr>\n",
       "    <tr>\n",
       "      <th>1</th>\n",
       "      <td>0.876274</td>\n",
       "      <td>0.008282</td>\n",
       "      <td>105.805078</td>\n",
       "      <td>0.000000</td>\n",
       "    </tr>\n",
       "  </tbody>\n",
       "</table>\n",
       "</div>"
      ],
      "text/plain": [
       "        est   std.err      t.stat     p.val\n",
       "0  0.125786  0.031396    4.006478  0.000062\n",
       "1  0.876274  0.008282  105.805078  0.000000"
      ]
     },
     "execution_count": 49,
     "metadata": {},
     "output_type": "execute_result"
    }
   ],
   "source": [
    "model1.tidy()"
   ]
  },
  {
   "cell_type": "code",
   "execution_count": null,
   "metadata": {},
   "outputs": [],
   "source": []
  }
 ],
 "metadata": {
  "kernelspec": {
   "display_name": "Python 3",
   "language": "python",
   "name": "python3"
  },
  "language_info": {
   "codemirror_mode": {
    "name": "ipython",
    "version": 3
   },
   "file_extension": ".py",
   "mimetype": "text/x-python",
   "name": "python",
   "nbconvert_exporter": "python",
   "pygments_lexer": "ipython3",
   "version": "3.6.8"
  }
 },
 "nbformat": 4,
 "nbformat_minor": 2
}
