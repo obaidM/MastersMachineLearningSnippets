{
 "cells": [
  {
   "cell_type": "code",
   "execution_count": 23,
   "metadata": {},
   "outputs": [],
   "source": [
    "import pandas as pd \n",
    "import numpy as np \n",
    "import tensorflow as tf"
   ]
  },
  {
   "cell_type": "code",
   "execution_count": 24,
   "metadata": {},
   "outputs": [],
   "source": [
    "from sklearn import datasets\n",
    "iris = datasets.load_iris()\n",
    "\n",
    "df = pd.DataFrame(iris.data, columns=iris.feature_names)\n",
    "df_y = pd.DataFrame(iris.target)"
   ]
  },
  {
   "cell_type": "code",
   "execution_count": 25,
   "metadata": {},
   "outputs": [],
   "source": [
    "df=pd.concat([df, df_y], axis=1)"
   ]
  },
  {
   "cell_type": "code",
   "execution_count": 26,
   "metadata": {},
   "outputs": [],
   "source": [
    "### lets rename the columns \n",
    "df.columns= ['sepal_len','sepal_wid','petal_len','petal_wid','target']"
   ]
  },
  {
   "cell_type": "code",
   "execution_count": 27,
   "metadata": {},
   "outputs": [
    {
     "data": {
      "text/html": [
       "<div>\n",
       "<style scoped>\n",
       "    .dataframe tbody tr th:only-of-type {\n",
       "        vertical-align: middle;\n",
       "    }\n",
       "\n",
       "    .dataframe tbody tr th {\n",
       "        vertical-align: top;\n",
       "    }\n",
       "\n",
       "    .dataframe thead th {\n",
       "        text-align: right;\n",
       "    }\n",
       "</style>\n",
       "<table border=\"1\" class=\"dataframe\">\n",
       "  <thead>\n",
       "    <tr style=\"text-align: right;\">\n",
       "      <th></th>\n",
       "      <th>sepal_len</th>\n",
       "      <th>sepal_wid</th>\n",
       "      <th>petal_len</th>\n",
       "      <th>petal_wid</th>\n",
       "      <th>target</th>\n",
       "    </tr>\n",
       "  </thead>\n",
       "  <tbody>\n",
       "    <tr>\n",
       "      <th>0</th>\n",
       "      <td>5.1</td>\n",
       "      <td>3.5</td>\n",
       "      <td>1.4</td>\n",
       "      <td>0.2</td>\n",
       "      <td>0</td>\n",
       "    </tr>\n",
       "    <tr>\n",
       "      <th>1</th>\n",
       "      <td>4.9</td>\n",
       "      <td>3.0</td>\n",
       "      <td>1.4</td>\n",
       "      <td>0.2</td>\n",
       "      <td>0</td>\n",
       "    </tr>\n",
       "    <tr>\n",
       "      <th>2</th>\n",
       "      <td>4.7</td>\n",
       "      <td>3.2</td>\n",
       "      <td>1.3</td>\n",
       "      <td>0.2</td>\n",
       "      <td>0</td>\n",
       "    </tr>\n",
       "    <tr>\n",
       "      <th>3</th>\n",
       "      <td>4.6</td>\n",
       "      <td>3.1</td>\n",
       "      <td>1.5</td>\n",
       "      <td>0.2</td>\n",
       "      <td>0</td>\n",
       "    </tr>\n",
       "    <tr>\n",
       "      <th>4</th>\n",
       "      <td>5.0</td>\n",
       "      <td>3.6</td>\n",
       "      <td>1.4</td>\n",
       "      <td>0.2</td>\n",
       "      <td>0</td>\n",
       "    </tr>\n",
       "  </tbody>\n",
       "</table>\n",
       "</div>"
      ],
      "text/plain": [
       "   sepal_len  sepal_wid  petal_len  petal_wid  target\n",
       "0        5.1        3.5        1.4        0.2       0\n",
       "1        4.9        3.0        1.4        0.2       0\n",
       "2        4.7        3.2        1.3        0.2       0\n",
       "3        4.6        3.1        1.5        0.2       0\n",
       "4        5.0        3.6        1.4        0.2       0"
      ]
     },
     "execution_count": 27,
     "metadata": {},
     "output_type": "execute_result"
    }
   ],
   "source": [
    "df.head()"
   ]
  },
  {
   "cell_type": "code",
   "execution_count": 28,
   "metadata": {},
   "outputs": [],
   "source": [
    "df['target']= df['target'].apply(int)"
   ]
  },
  {
   "cell_type": "code",
   "execution_count": 29,
   "metadata": {},
   "outputs": [],
   "source": [
    "y= df['target']\n",
    "X = df.drop('target',axis=1)"
   ]
  },
  {
   "cell_type": "markdown",
   "metadata": {},
   "source": [
    "##  LETS TRAIN TEST SPLIT FOR TENSORFLOW"
   ]
  },
  {
   "cell_type": "code",
   "execution_count": 30,
   "metadata": {},
   "outputs": [],
   "source": [
    "from sklearn.model_selection import train_test_split\n",
    "\n",
    "X_train, X_test, y_train, y_test = train_test_split(X, y, test_size=0.3)"
   ]
  },
  {
   "cell_type": "markdown",
   "metadata": {},
   "source": [
    "## Lets create tensor flow feature columns  - tf object is already created at the top"
   ]
  },
  {
   "cell_type": "code",
   "execution_count": 31,
   "metadata": {},
   "outputs": [],
   "source": [
    "##  please note that columns are numerical and not categorical. For categorical you will use a different function\n",
    "feat_col=[]\n",
    "for col in X.columns:\n",
    "    feat_col.append(tf.feature_column.numeric_column(col)) ###"
   ]
  },
  {
   "cell_type": "code",
   "execution_count": 32,
   "metadata": {},
   "outputs": [
    {
     "data": {
      "text/plain": [
       "4"
      ]
     },
     "execution_count": 32,
     "metadata": {},
     "output_type": "execute_result"
    }
   ],
   "source": [
    "len(feat_col)"
   ]
  },
  {
   "cell_type": "code",
   "execution_count": 33,
   "metadata": {},
   "outputs": [
    {
     "data": {
      "text/plain": [
       "[_NumericColumn(key='sepal_len', shape=(1,), default_value=None, dtype=tf.float32, normalizer_fn=None),\n",
       " _NumericColumn(key='sepal_wid', shape=(1,), default_value=None, dtype=tf.float32, normalizer_fn=None),\n",
       " _NumericColumn(key='petal_len', shape=(1,), default_value=None, dtype=tf.float32, normalizer_fn=None),\n",
       " _NumericColumn(key='petal_wid', shape=(1,), default_value=None, dtype=tf.float32, normalizer_fn=None)]"
      ]
     },
     "execution_count": 33,
     "metadata": {},
     "output_type": "execute_result"
    }
   ],
   "source": [
    "feat_col"
   ]
  },
  {
   "cell_type": "markdown",
   "metadata": {},
   "source": [
    "## Lets create input function , For training "
   ]
  },
  {
   "cell_type": "code",
   "execution_count": 66,
   "metadata": {},
   "outputs": [],
   "source": [
    "my_inputFunc = tf.estimator.inputs.pandas_input_fn(x=X_train,y=y_train,batch_size=5,num_epochs=8,shuffle=True) "
   ]
  },
  {
   "cell_type": "markdown",
   "metadata": {},
   "source": [
    "## Build the model and train the model "
   ]
  },
  {
   "cell_type": "code",
   "execution_count": 67,
   "metadata": {},
   "outputs": [
    {
     "name": "stdout",
     "output_type": "stream",
     "text": [
      "INFO:tensorflow:Using default config.\n",
      "WARNING:tensorflow:Using temporary folder as model directory: C:\\Users\\obaid\\AppData\\Local\\Temp\\tmpz9jdgom_\n",
      "INFO:tensorflow:Using config: {'_model_dir': 'C:\\\\Users\\\\obaid\\\\AppData\\\\Local\\\\Temp\\\\tmpz9jdgom_', '_tf_random_seed': None, '_save_summary_steps': 100, '_save_checkpoints_steps': None, '_save_checkpoints_secs': 600, '_session_config': allow_soft_placement: true\n",
      "graph_options {\n",
      "  rewrite_options {\n",
      "    meta_optimizer_iterations: ONE\n",
      "  }\n",
      "}\n",
      ", '_keep_checkpoint_max': 5, '_keep_checkpoint_every_n_hours': 10000, '_log_step_count_steps': 100, '_train_distribute': None, '_device_fn': None, '_protocol': None, '_eval_distribute': None, '_experimental_distribute': None, '_service': None, '_cluster_spec': <tensorflow.python.training.server_lib.ClusterSpec object at 0x00000235D04218D0>, '_task_type': 'worker', '_task_id': 0, '_global_id_in_cluster': 0, '_master': '', '_evaluation_master': '', '_is_chief': True, '_num_ps_replicas': 0, '_num_worker_replicas': 1}\n"
     ]
    }
   ],
   "source": [
    "myClassifer = tf.estimator.DNNClassifier(hidden_units=[25,15,10,5],n_classes=3,feature_columns=feat_col)"
   ]
  },
  {
   "cell_type": "code",
   "execution_count": 68,
   "metadata": {},
   "outputs": [
    {
     "name": "stdout",
     "output_type": "stream",
     "text": [
      "INFO:tensorflow:Calling model_fn.\n",
      "INFO:tensorflow:Done calling model_fn.\n",
      "INFO:tensorflow:Create CheckpointSaverHook.\n",
      "INFO:tensorflow:Graph was finalized.\n",
      "INFO:tensorflow:Running local_init_op.\n",
      "INFO:tensorflow:Done running local_init_op.\n",
      "INFO:tensorflow:Saving checkpoints for 0 into C:\\Users\\obaid\\AppData\\Local\\Temp\\tmpz9jdgom_\\model.ckpt.\n",
      "INFO:tensorflow:loss = 5.4912553, step = 1\n",
      "INFO:tensorflow:Saving checkpoints for 100 into C:\\Users\\obaid\\AppData\\Local\\Temp\\tmpz9jdgom_\\model.ckpt.\n",
      "INFO:tensorflow:Loss for final step: 0.99965876.\n"
     ]
    },
    {
     "data": {
      "text/plain": [
       "<tensorflow.python.estimator.canned.dnn.DNNClassifier at 0x235d13eff28>"
      ]
     },
     "execution_count": 68,
     "metadata": {},
     "output_type": "execute_result"
    }
   ],
   "source": [
    "myClassifer.train(input_fn=my_inputFunc,steps=100)"
   ]
  },
  {
   "cell_type": "markdown",
   "metadata": {},
   "source": [
    "## Now lets test the model. So create a predicting input function "
   ]
  },
  {
   "cell_type": "code",
   "execution_count": 69,
   "metadata": {},
   "outputs": [],
   "source": [
    "pred_func = tf.estimator.inputs.pandas_input_fn(x=X_test,batch_size= len(X_test),shuffle=False) "
   ]
  },
  {
   "cell_type": "code",
   "execution_count": 70,
   "metadata": {},
   "outputs": [
    {
     "name": "stdout",
     "output_type": "stream",
     "text": [
      "INFO:tensorflow:Calling model_fn.\n",
      "INFO:tensorflow:Done calling model_fn.\n",
      "INFO:tensorflow:Graph was finalized.\n",
      "INFO:tensorflow:Restoring parameters from C:\\Users\\obaid\\AppData\\Local\\Temp\\tmpz9jdgom_\\model.ckpt-100\n",
      "INFO:tensorflow:Running local_init_op.\n",
      "INFO:tensorflow:Done running local_init_op.\n"
     ]
    }
   ],
   "source": [
    "predictions = list(myClassifer.predict(input_fn=pred_func))"
   ]
  },
  {
   "cell_type": "code",
   "execution_count": 71,
   "metadata": {},
   "outputs": [
    {
     "data": {
      "text/plain": [
       "[{'logits': array([ 4.2902184, -0.6548536, -4.394448 ], dtype=float32),\n",
       "  'probabilities': array([9.9276525e-01, 7.0669013e-03, 1.6793614e-04], dtype=float32),\n",
       "  'class_ids': array([0], dtype=int64),\n",
       "  'classes': array([b'0'], dtype=object)},\n",
       " {'logits': array([ 3.989285  , -0.79370356, -4.2595224 ], dtype=float32),\n",
       "  'probabilities': array([9.9144137e-01, 8.2993004e-03, 2.5933149e-04], dtype=float32),\n",
       "  'class_ids': array([0], dtype=int64),\n",
       "  'classes': array([b'0'], dtype=object)},\n",
       " {'logits': array([-1.2775803,  3.5995965,  3.9431617], dtype=float32),\n",
       "  'probabilities': array([0.00315128, 0.4136361 , 0.5832126 ], dtype=float32),\n",
       "  'class_ids': array([2], dtype=int64),\n",
       "  'classes': array([b'2'], dtype=object)},\n",
       " {'logits': array([-1.3052151,  3.7153888,  4.056473 ], dtype=float32),\n",
       "  'probabilities': array([0.00273533, 0.41440955, 0.58285517], dtype=float32),\n",
       "  'class_ids': array([2], dtype=int64),\n",
       "  'classes': array([b'2'], dtype=object)},\n",
       " {'logits': array([ 3.5079284, -0.2539435, -3.3433995], dtype=float32),\n",
       "  'probabilities': array([0.97627807, 0.0226889 , 0.00103295], dtype=float32),\n",
       "  'class_ids': array([0], dtype=int64),\n",
       "  'classes': array([b'0'], dtype=object)},\n",
       " {'logits': array([-2.3421273,  4.2990203,  6.1633053], dtype=float32),\n",
       "  'probabilities': array([1.7517697e-04, 1.3418087e-01, 8.6564392e-01], dtype=float32),\n",
       "  'class_ids': array([2], dtype=int64),\n",
       "  'classes': array([b'2'], dtype=object)},\n",
       " {'logits': array([ 4.181106 , -1.2765701, -4.8593435], dtype=float32),\n",
       "  'probabilities': array([9.9563724e-01, 4.2448523e-03, 1.1800053e-04], dtype=float32),\n",
       "  'class_ids': array([0], dtype=int64),\n",
       "  'classes': array([b'0'], dtype=object)},\n",
       " {'logits': array([-2.667839,  4.923295,  7.076552], dtype=float32),\n",
       "  'probabilities': array([5.2521482e-05, 1.0402181e-01, 8.9592570e-01], dtype=float32),\n",
       "  'class_ids': array([2], dtype=int64),\n",
       "  'classes': array([b'2'], dtype=object)},\n",
       " {'logits': array([-1.7360438,  3.6716065,  4.768592 ], dtype=float32),\n",
       "  'probabilities': array([0.00112065, 0.25002468, 0.7488547 ], dtype=float32),\n",
       "  'class_ids': array([2], dtype=int64),\n",
       "  'classes': array([b'2'], dtype=object)},\n",
       " {'logits': array([ 5.1280613, -1.9805297, -6.314529 ], dtype=float32),\n",
       "  'probabilities': array([9.9917197e-01, 8.1736938e-04, 1.0719788e-05], dtype=float32),\n",
       "  'class_ids': array([0], dtype=int64),\n",
       "  'classes': array([b'0'], dtype=object)},\n",
       " {'logits': array([-1.0884404,  3.4785318,  3.5505323], dtype=float32),\n",
       "  'probabilities': array([0.0049828, 0.4796059, 0.5154113], dtype=float32),\n",
       "  'class_ids': array([2], dtype=int64),\n",
       "  'classes': array([b'2'], dtype=object)},\n",
       " {'logits': array([-2.359858,  4.333004,  6.213019], dtype=float32),\n",
       "  'probabilities': array([1.6409736e-04, 1.3236544e-01, 8.6747050e-01], dtype=float32),\n",
       "  'class_ids': array([2], dtype=int64),\n",
       "  'classes': array([b'2'], dtype=object)},\n",
       " {'logits': array([ 4.5195026, -1.5040638, -5.3583426], dtype=float32),\n",
       "  'probabilities': array([9.9753380e-01, 2.4150496e-03, 5.1172152e-05], dtype=float32),\n",
       "  'class_ids': array([0], dtype=int64),\n",
       "  'classes': array([b'0'], dtype=object)},\n",
       " {'logits': array([ 4.5367246, -1.4433684, -5.314445 ], dtype=float32),\n",
       "  'probabilities': array([9.974254e-01, 2.522081e-03, 5.254989e-05], dtype=float32),\n",
       "  'class_ids': array([0], dtype=int64),\n",
       "  'classes': array([b'0'], dtype=object)},\n",
       " {'logits': array([-2.6844172,  4.955069 ,  7.1230345], dtype=float32),\n",
       "  'probabilities': array([4.9386876e-05, 1.0265924e-01, 8.9729136e-01], dtype=float32),\n",
       "  'class_ids': array([2], dtype=int64),\n",
       "  'classes': array([b'2'], dtype=object)},\n",
       " {'logits': array([-2.3512242,  4.316456 ,  6.188811 ], dtype=float32),\n",
       "  'probabilities': array([1.694027e-04, 1.332469e-01, 8.665837e-01], dtype=float32),\n",
       "  'class_ids': array([2], dtype=int64),\n",
       "  'classes': array([b'2'], dtype=object)},\n",
       " {'logits': array([ 3.9892068, -1.2378445, -4.664396 ], dtype=float32),\n",
       "  'probabilities': array([9.9448675e-01, 5.3397319e-03, 1.7353502e-04], dtype=float32),\n",
       "  'class_ids': array([0], dtype=int64),\n",
       "  'classes': array([b'0'], dtype=object)},\n",
       " {'logits': array([-0.8790374,  3.18011  ,  3.0220945], dtype=float32),\n",
       "  'probabilities': array([0.00922651, 0.53444487, 0.45632854], dtype=float32),\n",
       "  'class_ids': array([1], dtype=int64),\n",
       "  'classes': array([b'1'], dtype=object)},\n",
       " {'logits': array([-2.6134713,  4.819091 ,  6.924113 ], dtype=float32),\n",
       "  'probabilities': array([6.42568993e-05, 1.08602695e-01, 8.91333044e-01], dtype=float32),\n",
       "  'class_ids': array([2], dtype=int64),\n",
       "  'classes': array([b'2'], dtype=object)},\n",
       " {'logits': array([-2.6487725,  4.8867507,  7.0230923], dtype=float32),\n",
       "  'probabilities': array([5.63719332e-05, 1.05608515e-01, 8.94335151e-01], dtype=float32),\n",
       "  'class_ids': array([2], dtype=int64),\n",
       "  'classes': array([b'2'], dtype=object)},\n",
       " {'logits': array([-1.5381922,  3.5768702,  4.3760715], dtype=float32),\n",
       "  'probabilities': array([0.00185945, 0.30961964, 0.68852097], dtype=float32),\n",
       "  'class_ids': array([2], dtype=int64),\n",
       "  'classes': array([b'2'], dtype=object)},\n",
       " {'logits': array([ 4.116384 , -1.0706226, -4.6145024], dtype=float32),\n",
       "  'probabilities': array([9.9428260e-01, 5.5567590e-03, 1.6059575e-04], dtype=float32),\n",
       "  'class_ids': array([0], dtype=int64),\n",
       "  'classes': array([b'0'], dtype=object)},\n",
       " {'logits': array([-1.4448811,  3.777417 ,  4.3307943], dtype=float32),\n",
       "  'probabilities': array([0.00196571, 0.36436355, 0.63367075], dtype=float32),\n",
       "  'class_ids': array([2], dtype=int64),\n",
       "  'classes': array([b'2'], dtype=object)},\n",
       " {'logits': array([-1.943507 ,  3.8401227,  5.21963  ], dtype=float32),\n",
       "  'probabilities': array([6.1847130e-04, 2.0096382e-01, 7.9841775e-01], dtype=float32),\n",
       "  'class_ids': array([2], dtype=int64),\n",
       "  'classes': array([b'2'], dtype=object)},\n",
       " {'logits': array([-2.4093742,  4.427909 ,  6.3518553], dtype=float32),\n",
       "  'probabilities': array([1.3670714e-04, 1.2740472e-01, 8.7245858e-01], dtype=float32),\n",
       "  'class_ids': array([2], dtype=int64),\n",
       "  'classes': array([b'2'], dtype=object)},\n",
       " {'logits': array([ 4.4176927, -1.1880953, -4.9802613], dtype=float32),\n",
       "  'probabilities': array([9.9625468e-01, 3.6627515e-03, 8.2583028e-05], dtype=float32),\n",
       "  'class_ids': array([0], dtype=int64),\n",
       "  'classes': array([b'0'], dtype=object)},\n",
       " {'logits': array([ 4.5365634, -1.2945142, -5.1785874], dtype=float32),\n",
       "  'probabilities': array([9.970137e-01, 2.926148e-03, 6.018174e-05], dtype=float32),\n",
       "  'class_ids': array([0], dtype=int64),\n",
       "  'classes': array([b'0'], dtype=object)},\n",
       " {'logits': array([-3.0432973,  5.6429157,  8.12928  ], dtype=float32),\n",
       "  'probabilities': array([1.2974555e-05, 7.6818638e-02, 9.2316842e-01], dtype=float32),\n",
       "  'class_ids': array([2], dtype=int64),\n",
       "  'classes': array([b'2'], dtype=object)},\n",
       " {'logits': array([-1.3330005,  3.2790112,  3.8551598], dtype=float32),\n",
       "  'probabilities': array([0.00356093, 0.35853803, 0.63790107], dtype=float32),\n",
       "  'class_ids': array([2], dtype=int64),\n",
       "  'classes': array([b'2'], dtype=object)},\n",
       " {'logits': array([ 3.9663696, -1.4262595, -4.8142824], dtype=float32),\n",
       "  'probabilities': array([9.9531835e-01, 4.5286934e-03, 1.5295838e-04], dtype=float32),\n",
       "  'class_ids': array([0], dtype=int64),\n",
       "  'classes': array([b'0'], dtype=object)},\n",
       " {'logits': array([-1.7982357,  4.015153 ,  5.070905 ], dtype=float32),\n",
       "  'probabilities': array([0.00077049, 0.25792316, 0.74130636], dtype=float32),\n",
       "  'class_ids': array([2], dtype=int64),\n",
       "  'classes': array([b'2'], dtype=object)},\n",
       " {'logits': array([ 4.1636643 , -0.99624175, -4.5940986 ], dtype=float32),\n",
       "  'probabilities': array([9.9413514e-01, 5.7085622e-03, 1.5631379e-04], dtype=float32),\n",
       "  'class_ids': array([0], dtype=int64),\n",
       "  'classes': array([b'0'], dtype=object)},\n",
       " {'logits': array([-0.87472045,  3.567513  ,  3.2356308 ], dtype=float32),\n",
       "  'probabilities': array([0.00680584, 0.57825476, 0.41493934], dtype=float32),\n",
       "  'class_ids': array([1], dtype=int64),\n",
       "  'classes': array([b'1'], dtype=object)},\n",
       " {'logits': array([-1.3779645,  4.1362104,  4.420916 ], dtype=float32),\n",
       "  'probabilities': array([0.00172677, 0.42855918, 0.569714  ], dtype=float32),\n",
       "  'class_ids': array([2], dtype=int64),\n",
       "  'classes': array([b'2'], dtype=object)},\n",
       " {'logits': array([-2.743694 ,  5.0686817,  7.2892375], dtype=float32),\n",
       "  'probabilities': array([3.9626091e-05, 9.7915813e-02, 9.0204453e-01], dtype=float32),\n",
       "  'class_ids': array([2], dtype=int64),\n",
       "  'classes': array([b'2'], dtype=object)},\n",
       " {'logits': array([ 4.474439 , -1.4070007, -5.227961 ], dtype=float32),\n",
       "  'probabilities': array([9.9715614e-01, 2.7828279e-03, 6.0962713e-05], dtype=float32),\n",
       "  'class_ids': array([0], dtype=int64),\n",
       "  'classes': array([b'0'], dtype=object)},\n",
       " {'logits': array([-2.6584237,  4.905249 ,  7.050153 ], dtype=float32),\n",
       "  'probabilities': array([5.4389027e-05, 1.0480272e-01, 8.9514291e-01], dtype=float32),\n",
       "  'class_ids': array([2], dtype=int64),\n",
       "  'classes': array([b'2'], dtype=object)},\n",
       " {'logits': array([-1.1874418,  3.8384988,  3.9251857], dtype=float32),\n",
       "  'probabilities': array([0.00313068, 0.4768443 , 0.520025  ], dtype=float32),\n",
       "  'class_ids': array([2], dtype=int64),\n",
       "  'classes': array([b'2'], dtype=object)},\n",
       " {'logits': array([-2.7256904,  5.0341754,  7.238758 ], dtype=float32),\n",
       "  'probabilities': array([4.2367948e-05, 9.9335514e-02, 9.0062213e-01], dtype=float32),\n",
       "  'class_ids': array([2], dtype=int64),\n",
       "  'classes': array([b'2'], dtype=object)},\n",
       " {'logits': array([ 4.4990106, -1.623633 , -5.452392 ], dtype=float32),\n",
       "  'probabilities': array([9.9776471e-01, 2.1877508e-03, 4.7554200e-05], dtype=float32),\n",
       "  'class_ids': array([0], dtype=int64),\n",
       "  'classes': array([b'0'], dtype=object)},\n",
       " {'logits': array([ 4.1966414 , -0.74294215, -4.387188  ], dtype=float32),\n",
       "  'probabilities': array([9.9270880e-01, 7.1053896e-03, 1.8574279e-04], dtype=float32),\n",
       "  'class_ids': array([0], dtype=int64),\n",
       "  'classes': array([b'0'], dtype=object)},\n",
       " {'logits': array([ 4.873792 , -1.6076216, -5.7514663], dtype=float32),\n",
       "  'probabilities': array([9.9844652e-01, 1.5292643e-03, 2.4256811e-05], dtype=float32),\n",
       "  'class_ids': array([0], dtype=int64),\n",
       "  'classes': array([b'0'], dtype=object)},\n",
       " {'logits': array([-2.3619027,  4.3369226,  6.218752 ], dtype=float32),\n",
       "  'probabilities': array([1.6286536e-04, 1.3215737e-01, 8.6767972e-01], dtype=float32),\n",
       "  'class_ids': array([2], dtype=int64),\n",
       "  'classes': array([b'2'], dtype=object)},\n",
       " {'logits': array([-1.8318179,  3.7513235,  4.9779067], dtype=float32),\n",
       "  'probabilities': array([0.00085213, 0.22658674, 0.77256113], dtype=float32),\n",
       "  'class_ids': array([2], dtype=int64),\n",
       "  'classes': array([b'2'], dtype=object)},\n",
       " {'logits': array([ 3.7605526, -0.7963573, -4.064426 ], dtype=float32),\n",
       "  'probabilities': array([9.8922336e-01, 1.0381341e-02, 3.9532041e-04], dtype=float32),\n",
       "  'class_ids': array([0], dtype=int64),\n",
       "  'classes': array([b'0'], dtype=object)}]"
      ]
     },
     "execution_count": 71,
     "metadata": {},
     "output_type": "execute_result"
    }
   ],
   "source": [
    "predictions  ### they come in list and dictionary format. So lets get them out in a single list format"
   ]
  },
  {
   "cell_type": "code",
   "execution_count": 72,
   "metadata": {},
   "outputs": [],
   "source": [
    "final_preds = []\n",
    "for item in predictions:\n",
    "    final_preds.append(item['class_ids'][0])"
   ]
  },
  {
   "cell_type": "code",
   "execution_count": 73,
   "metadata": {},
   "outputs": [
    {
     "data": {
      "text/plain": [
       "[0,\n",
       " 0,\n",
       " 2,\n",
       " 2,\n",
       " 0,\n",
       " 2,\n",
       " 0,\n",
       " 2,\n",
       " 2,\n",
       " 0,\n",
       " 2,\n",
       " 2,\n",
       " 0,\n",
       " 0,\n",
       " 2,\n",
       " 2,\n",
       " 0,\n",
       " 1,\n",
       " 2,\n",
       " 2,\n",
       " 2,\n",
       " 0,\n",
       " 2,\n",
       " 2,\n",
       " 2,\n",
       " 0,\n",
       " 0,\n",
       " 2,\n",
       " 2,\n",
       " 0,\n",
       " 2,\n",
       " 0,\n",
       " 1,\n",
       " 2,\n",
       " 2,\n",
       " 0,\n",
       " 2,\n",
       " 2,\n",
       " 2,\n",
       " 0,\n",
       " 0,\n",
       " 0,\n",
       " 2,\n",
       " 2,\n",
       " 0]"
      ]
     },
     "execution_count": 73,
     "metadata": {},
     "output_type": "execute_result"
    }
   ],
   "source": [
    "final_preds"
   ]
  },
  {
   "cell_type": "code",
   "execution_count": 74,
   "metadata": {},
   "outputs": [
    {
     "name": "stdout",
     "output_type": "stream",
     "text": [
      "[[18  0  0]\n",
      " [ 0  2 13]\n",
      " [ 0  0 12]]\n"
     ]
    }
   ],
   "source": [
    "from sklearn.metrics import classification_report,confusion_matrix\n",
    "\n",
    "print(confusion_matrix(y_test,final_preds))"
   ]
  },
  {
   "cell_type": "code",
   "execution_count": 75,
   "metadata": {},
   "outputs": [
    {
     "name": "stdout",
     "output_type": "stream",
     "text": [
      "              precision    recall  f1-score   support\n",
      "\n",
      "           0       1.00      1.00      1.00        18\n",
      "           1       1.00      0.13      0.24        15\n",
      "           2       0.48      1.00      0.65        12\n",
      "\n",
      "   micro avg       0.71      0.71      0.71        45\n",
      "   macro avg       0.83      0.71      0.63        45\n",
      "weighted avg       0.86      0.71      0.65        45\n",
      "\n"
     ]
    }
   ],
   "source": [
    "print(classification_report(y_test,final_preds))"
   ]
  },
  {
   "cell_type": "code",
   "execution_count": null,
   "metadata": {},
   "outputs": [],
   "source": []
  }
 ],
 "metadata": {
  "kernelspec": {
   "display_name": "Python 3",
   "language": "python",
   "name": "python3"
  },
  "language_info": {
   "codemirror_mode": {
    "name": "ipython",
    "version": 3
   },
   "file_extension": ".py",
   "mimetype": "text/x-python",
   "name": "python",
   "nbconvert_exporter": "python",
   "pygments_lexer": "ipython3",
   "version": "3.6.8"
  }
 },
 "nbformat": 4,
 "nbformat_minor": 2
}
